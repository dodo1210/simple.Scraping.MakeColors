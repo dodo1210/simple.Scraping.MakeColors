{
 "cells": [
  {
   "cell_type": "code",
   "execution_count": 1,
   "metadata": {
    "colab": {
     "base_uri": "https://localhost:8080/",
     "height": 34
    },
    "colab_type": "code",
    "id": "5_UVMQ6PXD2y",
    "outputId": "84e176a5-99e2-4ac1-897d-024971f0c898"
   },
   "outputs": [
    {
     "name": "stdout",
     "output_type": "stream",
     "text": [
      "Requirement already satisfied: imutils in /home/mpgxc/anaconda3/lib/python3.7/site-packages (0.5.3)\n"
     ]
    }
   ],
   "source": [
    "!pip install imutils"
   ]
  },
  {
   "cell_type": "code",
   "execution_count": 2,
   "metadata": {
    "colab": {},
    "colab_type": "code",
    "id": "AuXA7RfbXOut"
   },
   "outputs": [],
   "source": [
    "import numpy as np\n",
    "import cv2\n",
    "import imutils\n",
    "import pprint\n",
    "from skimage.io import imread\n",
    "from sklearn.cluster import KMeans\n",
    "from collections import Counter\n",
    "from matplotlib import pyplot as plt\n",
    "from skimage.filters import threshold_otsu"
   ]
  },
  {
   "cell_type": "markdown",
   "metadata": {
    "colab_type": "text",
    "id": "ZujqTVQEjxaM"
   },
   "source": [
    "## Section Two.1 : Function to Extract Skin Color\n",
    "\n",
    "The ***extractSkin*** function takes an 8 bit 3 channel image in the BGR colorspace (as mentioned in the article this is how OpenCV reads color images) and returns the extracted image in same colorspace. \n",
    "\n",
    "The function works by using the** HSV colorspace** and uses thresholding (Thresholding is a process of filtering out pixel based on specified thresdhold parameter) to extracts pixel that corresponds to the skin color range,\n",
    "\n",
    "\n"
   ]
  },
  {
   "cell_type": "code",
   "execution_count": 3,
   "metadata": {
    "colab": {},
    "colab_type": "code",
    "id": "2kGCu9pCXYbN"
   },
   "outputs": [],
   "source": [
    "def extractSkin(image):\n",
    "  # Taking a copy of the image\n",
    "    img =  image.copy()\n",
    "    # Converting from BGR Colours Space to HSV\n",
    "    img =  cv2.cvtColor(img, cv2.COLOR_BGR2HSV)\n",
    "\n",
    "    # Defining HSV Threadholds\n",
    "    lower_threshold = np.array([0, 48, 80], dtype=np.uint8)\n",
    "    upper_threshold = np.array([20, 255, 255], dtype=np.uint8)\n",
    "\n",
    "    # Single Channel mask,denoting presence of colours in the about threshold\n",
    "    skinMask = cv2.inRange(img,\n",
    "                           lower_threshold,\n",
    "                           upper_threshold)\n",
    "\n",
    "    # Cleaning up mask using Gaussian Filter\n",
    "    skinMask = cv2.GaussianBlur(skinMask,(3,3),0)\n",
    "\n",
    "    # Extracting skin from the threshold mask\n",
    "    skin  =  cv2.bitwise_and(img,\n",
    "                             img,\n",
    "                             mask=skinMask)\n",
    "\n",
    "    # Return the Skin image\n",
    "    return cv2.cvtColor(skin,\n",
    "                        cv2.COLOR_HSV2BGR)\n"
   ]
  },
  {
   "cell_type": "markdown",
   "metadata": {
    "colab_type": "text",
    "id": "El9UHDb7mvGR"
   },
   "source": [
    "## Section Two.2 :  Function to remove black pixels from extracted image\n",
    "\n",
    "The ***removeBlack*** function is more sort of the utility function to remove out the black pixel from the skin extracted. Since OpenCV by default doesn't handle transparent images and replaces those with zeros(black in color word).\n",
    "\n",
    "This function is useful when thresholding is used in the image."
   ]
  },
  {
   "cell_type": "code",
   "execution_count": 4,
   "metadata": {
    "colab": {},
    "colab_type": "code",
    "id": "ueCsY8mECI6Q"
   },
   "outputs": [],
   "source": [
    "def removeBlack(estimator_labels, estimator_cluster):\n",
    "  \n",
    "  # Check for black\n",
    "    hasBlack = False\n",
    "\n",
    "    # Get the total number of occurance for each color\n",
    "    occurance_counter = Counter(estimator_labels)\n",
    "\n",
    "\n",
    "    # Quick lambda function to compare to lists\n",
    "    compare = lambda x, y: Counter(x) == Counter(y)\n",
    "   \n",
    "  # Loop through the most common occuring color\n",
    "    for x in occurance_counter.most_common(len(estimator_cluster)):\n",
    "\n",
    "    # Quick List comprehension to convert each of RBG Numbers to int\n",
    "        color = [int(i) for i in estimator_cluster[x[0]].tolist() ]\n",
    "    \n",
    "  \n",
    "    \n",
    "        # Check if the color is [0,0,0] that if it is black \n",
    "        if compare(color , [0,0,0]) == True:\n",
    "            # delete the occurance\n",
    "            del occurance_counter[x[0]]\n",
    "            # remove the cluster \n",
    "            hasBlack = True\n",
    "            estimator_cluster = np.delete(estimator_cluster,x[0],0)\n",
    "            break\n",
    "      \n",
    "    return (occurance_counter,\n",
    "            estimator_cluster,\n",
    "            hasBlack)"
   ]
  },
  {
   "cell_type": "markdown",
   "metadata": {
    "colab_type": "text",
    "id": "gOMlAU75mtix"
   },
   "source": [
    "## Section Two.3 : Extract Colour Information\n",
    "\n",
    "The ***getColorInfomation*** function does all the heavy lifiting to make sense of prediction that came from the clustering.\n",
    "\n",
    "Taking the prediction labels (***estimator_labels***) and the cluster centroids(***estimator_cluster***) as the input and returns an array of dictionaries of the extracted colours.\n",
    "\n",
    "The function also takes an optional parameter (***hasThresholding***) to indicate whether a mask was used. This passed from the ***extractDominantColor*** function\n"
   ]
  },
  {
   "cell_type": "code",
   "execution_count": 5,
   "metadata": {
    "colab": {},
    "colab_type": "code",
    "id": "ywktI_ISyoFj"
   },
   "outputs": [],
   "source": [
    "def getColorInformation(estimator_labels,\n",
    "                        estimator_cluster,\n",
    "                        hasThresholding=False):\n",
    "  \n",
    "    # Variable to keep count of the occurance of each color predicted\n",
    "    occurance_counter = None\n",
    "\n",
    "    # Output list variable to return\n",
    "    colorInformation = []\n",
    "\n",
    "    #Check for Black\n",
    "    hasBlack = False\n",
    "  \n",
    "    # If a mask has be applied, remove th black\n",
    "    if hasThresholding == True:\n",
    "        occurance, cluster, black = removeBlack(estimator_labels, estimator_cluster)\n",
    "        occurance_counter =  occurance\n",
    "        estimator_cluster = cluster\n",
    "        hasBlack = black\n",
    "    \n",
    "    else:\n",
    "        occurance_counter = Counter(estimator_labels)\n",
    "\n",
    "    # Get the total sum of all the predicted occurances\n",
    "    totalOccurance = sum(occurance_counter.values()) \n",
    "\n",
    "\n",
    "    # Loop through all the predicted colors\n",
    "    for x in occurance_counter.most_common(len(estimator_cluster)):\n",
    "    \n",
    "        index = (int(x[0]))\n",
    "\n",
    "        # Quick fix for index out of bound when there is no threshold\n",
    "        index =  (index-1) if ((hasThresholding & hasBlack) & (int(index) != 0)) else index\n",
    "\n",
    "        # Get the color number into a list\n",
    "        color = estimator_cluster[index].tolist()\n",
    "\n",
    "        # Get the percentage of each color\n",
    "        color_percentage= (x[1]/totalOccurance)\n",
    "\n",
    "        #make the dictionay of the information\n",
    "        colorInfo = {\"cluster_index\":index ,\n",
    "                     \"color\": color , \n",
    "                     \"color_percentage\" : color_percentage }\n",
    "\n",
    "        # Add the dictionary to the list\n",
    "        colorInformation.append(colorInfo)\n",
    "    \n",
    "      \n",
    "    return colorInformation "
   ]
  },
  {
   "cell_type": "markdown",
   "metadata": {
    "colab_type": "text",
    "id": "OyaNX8GHBsHN"
   },
   "source": [
    "## Section Two.4 : Putting it All together\n",
    "\n",
    "The ***extractDominantColor*** is the function that call the above function to output the information.\n",
    "\n",
    "The function take an 8 bit 3 channel BGR image as the input , the number of colors to be extracted. This does all the super heavy lifting by sparkling some magic power of machine learning.\n",
    "\n",
    "\n",
    "As mention in the article , An unsupervised clustering algorithm, ***KMeans Clustering*** is used to cluster the pixel data based on their RGB values.\n",
    "\n",
    "\n",
    "The function also takes an optional parameter (***hasThresholding***) to indicate whether a thresholding mask was used. This passed to the ***getColorInformation*** function\n",
    "\n",
    "\n"
   ]
  },
  {
   "cell_type": "code",
   "execution_count": 6,
   "metadata": {
    "colab": {},
    "colab_type": "code",
    "id": "dwMgm-9k-pq6"
   },
   "outputs": [],
   "source": [
    "def extractDominantColor(image,\n",
    "                         number_of_colors=5,\n",
    "                         hasThresholding=False):\n",
    "  \n",
    "    # Quick Fix Increase cluster counter to neglect the black(Read Article) \n",
    "    if hasThresholding == True:\n",
    "        number_of_colors +=1\n",
    "  \n",
    "    # Taking Copy of the image\n",
    "    img = image.copy()\n",
    "\n",
    "    # Convert Image into RGB Colours Space\n",
    "    img = cv2.cvtColor(img, cv2.COLOR_BGR2RGB)\n",
    "\n",
    "    # Reshape Image\n",
    "    img = img.reshape((img.shape[0] * img.shape[1]), 3)\n",
    "\n",
    "    #Initiate KMeans Object\n",
    "    estimator = KMeans(n_clusters=number_of_colors, \n",
    "                       random_state=0)\n",
    "\n",
    "    # Fit the image\n",
    "    estimator.fit(img)\n",
    "\n",
    "    # Get Colour Information\n",
    "    colorInformation = getColorInformation(estimator.labels_,\n",
    "                                           estimator.cluster_centers_,\n",
    "                                           hasThresholding)\n",
    "    return colorInformation"
   ]
  },
  {
   "cell_type": "markdown",
   "metadata": {
    "colab_type": "text",
    "id": "jMgmvD0GI1Uh"
   },
   "source": [
    "## Section Two.4.1 : Putting it All together: Making a Visually Representation\n",
    "\n",
    "The ***plotColorBar*** function gives a visually representation of the extracted color information. \n",
    "\n",
    "Taking the color information (***colorInformation***) as input  and returns\n",
    " ***500x100 8 bit 3 channel BGR colorspace image***"
   ]
  },
  {
   "cell_type": "code",
   "execution_count": 7,
   "metadata": {
    "colab": {},
    "colab_type": "code",
    "id": "fZtHRM0qn-SH"
   },
   "outputs": [],
   "source": [
    "def plotColorBar(colorInformation):\n",
    "    \n",
    "    #Create a 500x100 black image\n",
    "    color_bar = np.zeros((100, 500, 3), dtype=\"uint8\")\n",
    "\n",
    "    top_x = 0\n",
    "\n",
    "    for x in colorInformation:    \n",
    "        bottom_x = top_x + (x[\"color_percentage\"] * color_bar.shape[1])\n",
    "\n",
    "        color = tuple(map(int,(x['color'])))\n",
    "\n",
    "        cv2.rectangle(color_bar , (int(top_x), 0) , (int(bottom_x), color_bar.shape[0]), color, -1)\n",
    "        top_x = bottom_x\n",
    "        \n",
    "    return color_bar"
   ]
  },
  {
   "cell_type": "code",
   "execution_count": 8,
   "metadata": {
    "colab": {},
    "colab_type": "code",
    "id": "YV3vAwHG-B8l"
   },
   "outputs": [],
   "source": [
    "#Minha implementação\n",
    "def prety_print_data(color_info):\n",
    "    \n",
    "    for x in color_info:\n",
    "        print(pprint.pformat(x))\n",
    "        print()\n",
    "        \n",
    "def mergex_mask_rgb(mask, img):\n",
    "    \n",
    "    result = img.copy()\n",
    "    \n",
    "    result[:, :, 0] = mask * img[:, :, 0]\n",
    "    result[:, :, 1] = mask * img[:, :, 1]\n",
    "    result[:, :, 2] = mask * img[:, :, 2]\n",
    "    \n",
    "    return result\n",
    "\n",
    "def plot_images(img):\n",
    "    \n",
    "    plt.figure(figsize = (15, 10))\n",
    "    plt.imshow(img)\n",
    "    plt.show()\n",
    "    \n",
    "def binary_image_with_otsu(image):\n",
    "    \n",
    "    thresh = threshold_otsu(image)\n",
    "    return image > thresh\n",
    "\n",
    "def segment_mask_face(image):\n",
    "    \n",
    "    #hsv\n",
    "    img_HSV = cv2.cvtColor(image, cv2.COLOR_BGR2HSV)\n",
    "    HSV_mask = cv2.inRange(img_HSV, \n",
    "                           (0, 15, 0), \n",
    "                           (17, 170,255)) \n",
    "    \n",
    "    HSV_mask = cv2.morphologyEx(HSV_mask, \n",
    "                                cv2.MORPH_OPEN, \n",
    "                                np.ones((3, 3), np.uint8))\n",
    "\n",
    "    #YCbCr \n",
    "    img_YCrCb = cv2.cvtColor(image, cv2.COLOR_BGR2YCrCb)\n",
    "    YCrCb_mask = cv2.inRange(img_YCrCb,\n",
    "                             (0, 135, 85), \n",
    "                             (255, 180, 135)) \n",
    "    \n",
    "    YCrCb_mask = cv2.morphologyEx(YCrCb_mask,\n",
    "                                  cv2.MORPH_OPEN,\n",
    "                                  np.ones((3, 3), np.uint8))\n",
    "\n",
    "    #YCbCr + hsv\n",
    "    global_mask=cv2.bitwise_and(YCrCb_mask, HSV_mask)\n",
    "    global_mask=cv2.medianBlur(global_mask, 3)\n",
    "    global_mask = cv2.morphologyEx(global_mask, \n",
    "                                   cv2.MORPH_OPEN, \n",
    "                                   np.ones((4, 4), np.uint8))\n",
    "\n",
    "    return cv2.bitwise_not(global_mask)"
   ]
  },
  {
   "cell_type": "code",
   "execution_count": 9,
   "metadata": {},
   "outputs": [],
   "source": [
    "#Minha implementação\n",
    "image_rgb = imread('images/velho_talkshow.jpg')\n",
    "image_rgb = imutils.resize(image_rgb, width=250)\n",
    "image_bgr = image_rgb[:, :, ::-1]"
   ]
  },
  {
   "cell_type": "code",
   "execution_count": 10,
   "metadata": {},
   "outputs": [
    {
     "data": {
      "image/png": "[encoded data removed]",
      "text/plain": [
       "<Figure size 1080x720 with 1 Axes>"
      ]
     },
     "metadata": {
      "needs_background": "light"
     },
     "output_type": "display_data"
    }
   ],
   "source": [
    "#Minha implementação\n",
    "result_mask = segment_mask_face(image_bgr)\n",
    "result_mask = binary_image_with_otsu(result_mask)\n",
    "result_mask = np.invert(result_mask)\n",
    "plot_images(result_mask)"
   ]
  },
  {
   "cell_type": "code",
   "execution_count": 11,
   "metadata": {},
   "outputs": [
    {
     "data": {
      "image/png": "[encoded data removed]",
      "text/plain": [
       "<Figure size 1080x720 with 1 Axes>"
      ]
     },
     "metadata": {
      "needs_background": "light"
     },
     "output_type": "display_data"
    }
   ],
   "source": [
    "#Minha implementação\n",
    "result_mergex_skin = mergex_mask_rgb(result_mask, image_rgb)\n",
    "plot_images(result_mergex_skin)"
   ]
  },
  {
   "cell_type": "code",
   "execution_count": 12,
   "metadata": {},
   "outputs": [],
   "source": [
    "# Apply Skin Mask\n",
    "# skin = extractSkin(image_bgr) # Original\n",
    "skin = result_mergex_skin[:,:,::-1] #Minha implementação"
   ]
  },
  {
   "cell_type": "code",
   "execution_count": 13,
   "metadata": {},
   "outputs": [],
   "source": [
    "# Find the dominant color. Default is 1 , \n",
    "#pass the parameter 'number_of_colors=N' where N is the specified number of colors \n",
    "dominantColors = extractDominantColor(skin, hasThresholding=True)\n",
    "colour_bar = plotColorBar(dominantColors)"
   ]
  },
  {
   "cell_type": "code",
   "execution_count": 14,
   "metadata": {},
   "outputs": [
    {
     "data": {
      "image/png": "[encoded data removed]",
      "text/plain": [
       "<Figure size 1080x720 with 1 Axes>"
      ]
     },
     "metadata": {
      "needs_background": "light"
     },
     "output_type": "display_data"
    }
   ],
   "source": [
    "plot_images(colour_bar)"
   ]
  },
  {
   "cell_type": "code",
   "execution_count": 15,
   "metadata": {
    "colab": {
     "base_uri": "https://localhost:8080/",
     "height": 374
    },
    "colab_type": "code",
    "id": "z8sQ_dXQ9-L7",
    "outputId": "d4364bea-af45-42a0-e46f-9b59c26601cd"
   },
   "outputs": [
    {
     "name": "stdout",
     "output_type": "stream",
     "text": [
      "{'cluster_index': 0,\n",
      " 'color': [205.9978963472886, 152.66915280169246, 136.27959456874396],\n",
      " 'color_percentage': 0.2873556899395272}\n",
      "\n",
      "{'cluster_index': 2,\n",
      " 'color': [232.48955916472775, 176.03886310905864, 159.27648878576926],\n",
      " 'color_percentage': 0.2841121495327103}\n",
      "\n",
      "{'cluster_index': 1,\n",
      " 'color': [130.46369388369553, 93.09912624284773, 73.29014763483198],\n",
      " 'color_percentage': 0.18257284222100054}\n",
      "\n",
      "{'cluster_index': 4,\n",
      " 'color': [167.99732415901696, 127.51720183486748, 113.07377675841289],\n",
      " 'color_percentage': 0.14370533260032986}\n",
      "\n",
      "{'cluster_index': 3,\n",
      " 'color': [94.48381877022533, 60.768608414239154, 43.33710895361405],\n",
      " 'color_percentage': 0.1022539857064321}\n",
      "\n"
     ]
    }
   ],
   "source": [
    "prety_print_data(dominantColors)"
   ]
  },
  {
   "cell_type": "code",
   "execution_count": null,
   "metadata": {
    "colab": {},
    "colab_type": "code",
    "id": "xlynYG8li-YV"
   },
   "outputs": [],
   "source": [
    "  "
   ]
  }
 ],
 "metadata": {
  "colab": {
   "collapsed_sections": [],
   "name": "Cópia de Extract Skin from an Image and Find the Dominant Colors/Tone",
   "provenance": []
  },
  "kernelspec": {
   "display_name": "Python 3",
   "language": "python",
   "name": "python3"
  },
  "language_info": {
   "codemirror_mode": {
    "name": "ipython",
    "version": 3
   },
   "file_extension": ".py",
   "mimetype": "text/x-python",
   "name": "python",
   "nbconvert_exporter": "python",
   "pygments_lexer": "ipython3",
   "version": "3.7.6"
  }
 },
 "nbformat": 4,
 "nbformat_minor": 4
}
